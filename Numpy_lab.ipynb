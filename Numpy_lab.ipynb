{
 "cells": [
  {
   "cell_type": "markdown",
   "id": "71f503b8-4149-4a45-9703-1ed633ead938",
   "metadata": {},
   "source": [
    "numpy exercises\n",
    "\n",
    "1. Import the numpy package under the name `np` "
   ]
  },
  {
   "cell_type": "code",
   "execution_count": 12,
   "id": "a3e37d34-8412-4237-bab4-2ab2bf81a520",
   "metadata": {},
   "outputs": [],
   "source": [
    "import numpy as np"
   ]
  },
  {
   "cell_type": "markdown",
   "id": "dead451a-a5d5-490e-8aad-0cabae4119fc",
   "metadata": {},
   "source": [
    "2. Create a null vector of size 10"
   ]
  },
  {
   "cell_type": "code",
   "execution_count": 49,
   "id": "4f196b29-b92c-4a10-b23d-d979553035a2",
   "metadata": {},
   "outputs": [
    {
     "name": "stdout",
     "output_type": "stream",
     "text": [
      "[0. 0. 0. 0. 0. 0. 0. 0. 0. 0.]\n"
     ]
    }
   ],
   "source": [
    "null_vector = np.zeros(10)\n",
    "print(null_vector)"
   ]
  },
  {
   "cell_type": "markdown",
   "id": "7e4ca98a-ff3c-4a35-afff-9eea2a864575",
   "metadata": {},
   "source": [
    "3. Create a null vector of size 10 but the fifth value which is 1"
   ]
  },
  {
   "cell_type": "code",
   "execution_count": 22,
   "id": "656d0b96-88c3-47a4-b7ad-a17d8802b569",
   "metadata": {},
   "outputs": [
    {
     "name": "stdout",
     "output_type": "stream",
     "text": [
      "[0. 0. 0. 0. 1. 0. 0. 0. 0. 0.]\n"
     ]
    }
   ],
   "source": [
    "null_vector = np.zeros(10)\n",
    "\n",
    "null_vector[4] = 1\n",
    "\n",
    "print(null_vector)"
   ]
  },
  {
   "cell_type": "markdown",
   "id": "1ab3d548-b14d-4a7a-bbb2-7e8fc662666c",
   "metadata": {},
   "source": [
    "4. Create a vector with values ranging from 10 to 49 "
   ]
  },
  {
   "cell_type": "code",
   "execution_count": 25,
   "id": "8c97b771-4fe6-432b-9891-034ed965d773",
   "metadata": {},
   "outputs": [
    {
     "name": "stdout",
     "output_type": "stream",
     "text": [
      "[10 11 12 13 14 15 16 17 18 19 20 21 22 23 24 25 26 27 28 29 30 31 32 33\n",
      " 34 35 36 37 38 39 40 41 42 43 44 45 46 47 48 49]\n"
     ]
    }
   ],
   "source": [
    "vector = np.arange(10, 50)\n",
    "print(vector)"
   ]
  },
  {
   "cell_type": "markdown",
   "id": "0afa6fa6-0b26-484e-8d3b-97fafcfa3dae",
   "metadata": {},
   "source": [
    "5. Create a 3x3 matrix with values ranging from 0 to 8"
   ]
  },
  {
   "cell_type": "code",
   "execution_count": 32,
   "id": "12691101-4c9a-410a-b804-f8aec1d73a5e",
   "metadata": {},
   "outputs": [
    {
     "name": "stdout",
     "output_type": "stream",
     "text": [
      "[[0 1 2]\n",
      " [3 4 5]\n",
      " [6 7 8]]\n"
     ]
    }
   ],
   "source": [
    "matrix = np.arange(9).reshape(3, 3)\n",
    "print(matrix)"
   ]
  },
  {
   "cell_type": "markdown",
   "id": "6f86e482-5335-44b6-856f-39b90601700c",
   "metadata": {},
   "source": [
    "6. Find indices of non-zero elements from [1,2,0,0,4,0]\n"
   ]
  },
  {
   "cell_type": "code",
   "execution_count": 36,
   "id": "e1e71210-18da-4b2a-9fbc-a6942937cc04",
   "metadata": {},
   "outputs": [
    {
     "name": "stdout",
     "output_type": "stream",
     "text": [
      "[0 1 4]\n"
     ]
    }
   ],
   "source": [
    "arr = [1, 2, 0, 0, 4, 0]\n",
    "\n",
    "non_zero_indices = np.nonzero(arr)[0]\n",
    "print(non_zero_indices) "
   ]
  },
  {
   "cell_type": "markdown",
   "id": "e9f1abc5-b3c7-4114-9fdd-b0c0613a074c",
   "metadata": {},
   "source": [
    "7. Create a 3x3 identity matrix "
   ]
  },
  {
   "cell_type": "code",
   "execution_count": 81,
   "id": "359ba22e-6ceb-42a7-a28e-d6263cd1e9f5",
   "metadata": {},
   "outputs": [
    {
     "name": "stdout",
     "output_type": "stream",
     "text": [
      "[[1. 0. 0.]\n",
      " [0. 1. 0.]\n",
      " [0. 0. 1.]]\n"
     ]
    }
   ],
   "source": [
    "array_3D = np.identity(3)\n",
    "\n",
    "print(array_3D) "
   ]
  },
  {
   "cell_type": "markdown",
   "id": "f572e463-3077-4249-826a-95d1fc4ffa0d",
   "metadata": {},
   "source": [
    "8. Create a 3x3x3 array with random values"
   ]
  },
  {
   "cell_type": "code",
   "execution_count": 45,
   "id": "b5efe1bb-0369-4d91-82bd-746c853d4710",
   "metadata": {},
   "outputs": [
    {
     "name": "stdout",
     "output_type": "stream",
     "text": [
      "[[[0.19520917 0.52525158 0.44124188]\n",
      "  [0.91145766 0.6415115  0.5980215 ]\n",
      "  [0.41136849 0.35441075 0.14968843]]\n",
      "\n",
      " [[0.70260271 0.8919862  0.0519077 ]\n",
      "  [0.97727694 0.67984508 0.26546481]\n",
      "  [0.17751267 0.90192656 0.29435027]]\n",
      "\n",
      " [[0.0169255  0.36070871 0.02007103]\n",
      "  [0.33356214 0.141253   0.35004624]\n",
      "  [0.93568744 0.23938505 0.7520118 ]]]\n"
     ]
    }
   ],
   "source": [
    "x = np.random.random((3, 3, 3))\n",
    "\n",
    "print(x) "
   ]
  },
  {
   "cell_type": "markdown",
   "id": "07c43f46-810e-41c5-8e55-f445ec452706",
   "metadata": {},
   "source": [
    "9. Create a 10x10 array with random values and find the minimum and maximum values"
   ]
  },
  {
   "cell_type": "code",
   "execution_count": 110,
   "id": "63c89a1b-e3d8-4704-ab57-0582d5ea2cee",
   "metadata": {},
   "outputs": [
    {
     "name": "stdout",
     "output_type": "stream",
     "text": [
      "[[0.8332209  0.12549071 0.71593501 0.1698681  0.65915798 0.99637193\n",
      "  0.68833474 0.59399858 0.74533849 0.13710767]\n",
      " [0.41724541 0.81897551 0.55674434 0.44805213 0.53830475 0.74288767\n",
      "  0.28269272 0.77935725 0.25202718 0.74714628]\n",
      " [0.03682389 0.99281459 0.74700793 0.38439951 0.78914269 0.31485795\n",
      "  0.03590979 0.85576885 0.9729716  0.16193393]\n",
      " [0.34391515 0.69523132 0.04566469 0.09352373 0.64849011 0.95131556\n",
      "  0.64477581 0.10012374 0.29501163 0.42259333]\n",
      " [0.74515076 0.55847563 0.87821899 0.25875591 0.75676863 0.84763571\n",
      "  0.9130693  0.45608906 0.04518376 0.92414441]\n",
      " [0.97926037 0.40414464 0.29341858 0.76012765 0.02339621 0.78866138\n",
      "  0.96370694 0.72592898 0.56891506 0.21036022]\n",
      " [0.62175632 0.20612741 0.93166785 0.52789368 0.35128281 0.38181913\n",
      "  0.30122887 0.56423503 0.66466169 0.05144574]\n",
      " [0.82582227 0.48388217 0.50789348 0.47064821 0.18921544 0.46127259\n",
      "  0.07584725 0.71065901 0.59035485 0.19565487]\n",
      " [0.15370232 0.41906409 0.15017576 0.42539534 0.45823267 0.61058206\n",
      "  0.45232443 0.14304902 0.39020584 0.72882317]\n",
      " [0.86196012 0.49069486 0.06589615 0.91000306 0.73874606 0.41827441\n",
      "  0.97714814 0.3517829  0.14952037 0.63319303]]\n",
      "0.023396211726684157\n",
      "0.9963719292391299\n"
     ]
    }
   ],
   "source": [
    "x = np.random.random((10, 10))\n",
    "print(x)\n",
    "print(x.min())\n",
    "print(x.max())"
   ]
  },
  {
   "cell_type": "markdown",
   "id": "3dd2755f-742f-4c64-b8db-485f622b307f",
   "metadata": {},
   "source": [
    "10. Create a random vector of size 30 and find the mean value"
   ]
  },
  {
   "cell_type": "code",
   "execution_count": 120,
   "id": "4d593491-8e4a-4c91-92f9-b1a4648870aa",
   "metadata": {},
   "outputs": [
    {
     "name": "stdout",
     "output_type": "stream",
     "text": [
      "0.5433705144476172\n"
     ]
    }
   ],
   "source": [
    "x=np.random.random(30)\n",
    "print(x.mean())"
   ]
  },
  {
   "cell_type": "markdown",
   "id": "07445d3e-6dde-492d-baad-550e5a57c80b",
   "metadata": {},
   "source": [
    "11. Create a 5x5 matrix with values 1,2,3,4 just below the diagonal"
   ]
  },
  {
   "cell_type": "code",
   "execution_count": 148,
   "id": "648a291c-fb12-4a97-b9fd-48aa738cb59b",
   "metadata": {},
   "outputs": [
    {
     "name": "stdout",
     "output_type": "stream",
     "text": [
      "[[0 0 0 0 0]\n",
      " [1 0 0 0 0]\n",
      " [0 2 0 0 0]\n",
      " [0 0 3 0 0]\n",
      " [0 0 0 4 0]]\n"
     ]
    }
   ],
   "source": [
    "x = np.diag([1,2,3,4], k=-1)\n",
    "print(x)\n",
    "\n",
    "#1+np.arange(4)"
   ]
  },
  {
   "cell_type": "markdown",
   "id": "0a8d3a86-8918-46c8-b4bc-ac4aa8007ea7",
   "metadata": {},
   "source": [
    "12. Normalize a 5x5 random matrix"
   ]
  },
  {
   "cell_type": "code",
   "execution_count": 83,
   "id": "336e6919-9d73-4846-9551-00f702490985",
   "metadata": {},
   "outputs": [
    {
     "name": "stdout",
     "output_type": "stream",
     "text": [
      "[[-1.4752535  -1.22948271  1.55549729 -1.36993422  1.2154104 ]\n",
      " [ 0.50869645  1.49900056 -0.90782823  0.58696115  0.83944   ]\n",
      " [-1.1734663   0.50177306  0.3705921  -0.244027    0.4235318 ]\n",
      " [ 1.62332084  0.9170799  -1.08198709  0.22012364  1.03089081]\n",
      " [-0.46558913 -0.33838888 -0.81661125 -1.11191681 -1.07783288]]\n"
     ]
    }
   ],
   "source": [
    "x = np.random.random((5,5))\n",
    "x = (x - np.mean (x)) / (np.std (x))\n",
    "print(x)"
   ]
  },
  {
   "cell_type": "markdown",
   "id": "0a89b6e1-df03-4e33-b5fa-68d453c182e5",
   "metadata": {},
   "source": [
    "13. How to find common values between two arrays?"
   ]
  },
  {
   "cell_type": "code",
   "execution_count": 92,
   "id": "639d35bf-be3d-4c0d-b0ae-d60ac3736d09",
   "metadata": {},
   "outputs": [
    {
     "name": "stdout",
     "output_type": "stream",
     "text": [
      "[1 2 3 4]\n"
     ]
    }
   ],
   "source": [
    "X1 = np.random.randint(0,5,10)\n",
    "X2 = np.random.randint(0,5,10)\n",
    "print(np.intersect1d(X1,X2))"
   ]
  },
  {
   "cell_type": "markdown",
   "id": "1bda720d-070f-444c-a0bb-882d88612b9a",
   "metadata": {},
   "source": [
    "14. Create a random vector of size 10 and sort it"
   ]
  },
  {
   "cell_type": "code",
   "execution_count": 104,
   "id": "228fc9e3-e12b-45f5-a79c-a7f935d9c97b",
   "metadata": {},
   "outputs": [
    {
     "name": "stdout",
     "output_type": "stream",
     "text": [
      "[0.1136641  0.16146315 0.3335479  0.34210378 0.34784726 0.70502664\n",
      " 0.75453805 0.78181658 0.86144695 0.92341378]\n"
     ]
    }
   ],
   "source": [
    "X=np.random.random(10)\n",
    "X.sort()\n",
    "print(X)"
   ]
  },
  {
   "cell_type": "markdown",
   "id": "7d4dc8d6-df4d-45b9-afdf-baa0bb3ab770",
   "metadata": {},
   "source": [
    "15. Create random vector of size 10 and replace the maximum value by 0"
   ]
  },
  {
   "cell_type": "code",
   "execution_count": 107,
   "id": "2b8d0c55-f1ab-40e4-9cac-99c52bb815cc",
   "metadata": {},
   "outputs": [
    {
     "name": "stdout",
     "output_type": "stream",
     "text": [
      "9\n"
     ]
    }
   ],
   "source": [
    "X=np.random.random(10)\n",
    "max_value=X.argmax(0)\n",
    "print(max_value)"
   ]
  },
  {
   "cell_type": "markdown",
   "id": "59e89430-c09f-4ad5-b03d-af4cda5c60df",
   "metadata": {},
   "source": [
    "16. Subtract the mean of each row of a matrix"
   ]
  },
  {
   "cell_type": "code",
   "execution_count": 140,
   "id": "7ffea4d2-004b-4548-807b-8b94a3cb498e",
   "metadata": {},
   "outputs": [
    {
     "data": {
      "text/plain": [
       "array([[ 0.06433766,  0.04177669,  0.20099815, -0.1215192 , -0.36115762,\n",
       "         0.02485466, -0.23175156, -0.07549413,  0.26624752, -0.32077969,\n",
       "        -0.35637514,  0.45245293, -0.04119347,  0.45760318],\n",
       "       [ 0.20094438,  0.01920276, -0.52927631,  0.29826348,  0.05093419,\n",
       "         0.30866835, -0.44444133, -0.49088981,  0.25944689, -0.07518952,\n",
       "        -0.31674164,  0.14030744,  0.4212561 ,  0.15751505],\n",
       "       [ 0.23903337,  0.04944485,  0.35377397,  0.0455795 ,  0.00572213,\n",
       "        -0.18094888,  0.05342931, -0.32722472,  0.15264099,  0.20093488,\n",
       "         0.20136034, -0.469021  , -0.49953176,  0.17480702],\n",
       "       [-0.35175613,  0.38861699, -0.04358659,  0.06268705, -0.21881295,\n",
       "         0.18274954,  0.05183008,  0.28112888,  0.15612255, -0.12812956,\n",
       "         0.09025601, -0.06251109, -0.38417892, -0.02441588],\n",
       "       [ 0.38678946, -0.00516738, -0.19785129,  0.00547913,  0.07376418,\n",
       "        -0.40611708, -0.35121954,  0.23849275, -0.04734122, -0.01534071,\n",
       "        -0.0280093 ,  0.42225986, -0.36967851,  0.29393967],\n",
       "       [-0.06261851, -0.04729643, -0.04574731, -0.27767333, -0.03634061,\n",
       "         0.053076  ,  0.36166972,  0.20594083, -0.21602921,  0.14589702,\n",
       "        -0.17497902, -0.18265277,  0.35823476, -0.08148113],\n",
       "       [ 0.45544058,  0.19046168, -0.4568657 ,  0.32344134, -0.30906497,\n",
       "         0.13189179,  0.35611573,  0.0511073 , -0.34558676, -0.01517622,\n",
       "        -0.07121602, -0.09764074,  0.05644907, -0.2693571 ]])"
      ]
     },
     "execution_count": 140,
     "metadata": {},
     "output_type": "execute_result"
    }
   ],
   "source": [
    "X = np.random.rand(7, 14)\n",
    "Y = X - X.mean(axis=1, keepdims=True)\n",
    "Y"
   ]
  },
  {
   "cell_type": "markdown",
   "id": "1cd176e3-8857-42f7-9f7f-8f4179297ccb",
   "metadata": {},
   "source": [
    "17. How to get the n largest values of an array"
   ]
  },
  {
   "cell_type": "code",
   "execution_count": 157,
   "id": "694198f6-3977-4ac5-9e95-7c3c14935c12",
   "metadata": {},
   "outputs": [
    {
     "name": "stdout",
     "output_type": "stream",
     "text": [
      "[9995 9996 9997 9998 9999]\n"
     ]
    }
   ],
   "source": [
    "X = np.arange(10000)\n",
    "np.random.shuffle(X)\n",
    "n = 5\n",
    "print (X[np.argsort(X)[-n:]])"
   ]
  },
  {
   "cell_type": "code",
   "execution_count": null,
   "id": "124f98e4-8c82-4d48-95f3-e2e5e57f3388",
   "metadata": {},
   "outputs": [],
   "source": [
    "18.Create a random 5*3 matrix and replace items that are larger than 4 by their squares ( Example:  6 --> 36) "
   ]
  },
  {
   "cell_type": "code",
   "execution_count": 187,
   "id": "ebbfbccb-6a99-4fbe-88b7-63baeeca55e9",
   "metadata": {},
   "outputs": [
    {
     "data": {
      "text/plain": [
       "array([[  0,   1,   2,   3,   4],\n",
       "       [ 25,  36,  49,  64,  81],\n",
       "       [100, 121, 144, 169, 196]])"
      ]
     },
     "execution_count": 187,
     "metadata": {},
     "output_type": "execute_result"
    }
   ],
   "source": [
    "x = np.arange(15).reshape(3,5)\n",
    "np.where(x>4, x**2, x)"
   ]
  },
  {
   "cell_type": "code",
   "execution_count": 181,
   "id": "b4418ec6-aed4-4a9c-a8d6-0fc490c5b4e6",
   "metadata": {
    "scrolled": true
   },
   "outputs": [
    {
     "name": "stdout",
     "output_type": "stream",
     "text": [
      "Help on _ArrayFunctionDispatcher in module numpy:\n",
      "\n",
      "where(...)\n",
      "    where(condition, [x, y], /)\n",
      "\n",
      "    Return elements chosen from `x` or `y` depending on `condition`.\n",
      "\n",
      "    .. note::\n",
      "        When only `condition` is provided, this function is a shorthand for\n",
      "        ``np.asarray(condition).nonzero()``. Using `nonzero` directly should be\n",
      "        preferred, as it behaves correctly for subclasses. The rest of this\n",
      "        documentation covers only the case where all three arguments are\n",
      "        provided.\n",
      "\n",
      "    Parameters\n",
      "    ----------\n",
      "    condition : array_like, bool\n",
      "        Where True, yield `x`, otherwise yield `y`.\n",
      "    x, y : array_like\n",
      "        Values from which to choose. `x`, `y` and `condition` need to be\n",
      "        broadcastable to some shape.\n",
      "\n",
      "    Returns\n",
      "    -------\n",
      "    out : ndarray\n",
      "        An array with elements from `x` where `condition` is True, and elements\n",
      "        from `y` elsewhere.\n",
      "\n",
      "    See Also\n",
      "    --------\n",
      "    choose\n",
      "    nonzero : The function that is called when x and y are omitted\n",
      "\n",
      "    Notes\n",
      "    -----\n",
      "    If all the arrays are 1-D, `where` is equivalent to::\n",
      "\n",
      "        [xv if c else yv\n",
      "         for c, xv, yv in zip(condition, x, y)]\n",
      "\n",
      "    Examples\n",
      "    --------\n",
      "    >>> a = np.arange(10)\n",
      "    >>> a\n",
      "    array([0, 1, 2, 3, 4, 5, 6, 7, 8, 9])\n",
      "    >>> np.where(a < 5, a, 10*a)\n",
      "    array([ 0,  1,  2,  3,  4, 50, 60, 70, 80, 90])\n",
      "\n",
      "    This can be used on multidimensional arrays too:\n",
      "\n",
      "    >>> np.where([[True, False], [True, True]],\n",
      "    ...          [[1, 2], [3, 4]],\n",
      "    ...          [[9, 8], [7, 6]])\n",
      "    array([[1, 8],\n",
      "           [3, 4]])\n",
      "\n",
      "    The shapes of x, y, and the condition are broadcast together:\n",
      "\n",
      "    >>> x, y = np.ogrid[:3, :4]\n",
      "    >>> np.where(x < y, x, 10 + y)  # both x and 10+y are broadcast\n",
      "    array([[10,  0,  0,  0],\n",
      "           [10, 11,  1,  1],\n",
      "           [10, 11, 12,  2]])\n",
      "\n",
      "    >>> a = np.array([[0, 1, 2],\n",
      "    ...               [0, 2, 4],\n",
      "    ...               [0, 3, 6]])\n",
      "    >>> np.where(a < 4, a, -1)  # -1 is broadcast\n",
      "    array([[ 0,  1,  2],\n",
      "           [ 0,  2, -1],\n",
      "           [ 0,  3, -1]])\n",
      "\n"
     ]
    }
   ],
   "source": [
    "help(np.where)"
   ]
  },
  {
   "cell_type": "code",
   "execution_count": null,
   "id": "77b54ba9-3ef1-40c3-8b94-05b647711cd4",
   "metadata": {},
   "outputs": [],
   "source": []
  }
 ],
 "metadata": {
  "kernelspec": {
   "display_name": "Python 3 (ipykernel)",
   "language": "python",
   "name": "python3"
  },
  "language_info": {
   "codemirror_mode": {
    "name": "ipython",
    "version": 3
   },
   "file_extension": ".py",
   "mimetype": "text/x-python",
   "name": "python",
   "nbconvert_exporter": "python",
   "pygments_lexer": "ipython3",
   "version": "3.12.7"
  }
 },
 "nbformat": 4,
 "nbformat_minor": 5
}
